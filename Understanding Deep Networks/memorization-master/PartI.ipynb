{
 "cells": [
  {
   "cell_type": "markdown",
   "id": "724c0fef",
   "metadata": {
    "id": "560c8952-98a7-4819-8063-2409924ef142"
   },
   "source": [
    "# Part I - Deep neural networks can fit arbitrary labellings of the training data\n",
    "\n",
    "The mechanisms governing hypothesis selection in deep learning are currently not fully understood.\n",
    "\n",
    "According to traditional machine learning, a large hypothesis class (e.g. corresponding to overparameterized models) can fit several datasets of increasing complexity, which practically leads to overfitting training data and noise within. However, in practice, deep networks are able to achieve state-of-the-art performance on several benchmarks, thereby learning generalizing solutions. At the same time, weakly regularized networks can fit arbitrary labellings of the dataset, showing that stochastic optimization, coupled with overparameterization, can in principle memorize a dataset.\n",
    "\n",
    "A paramount question is thus what factors govern learning vs memorization, and why large, overparameterized networks don't simply memorize the training dataset?\n",
    "\n",
    "In this assignment, we are going to explore established phenomena that set deep networks aside from traditional machine learning, so that you familiarize yourself with some fundamental open questions in deep learning."
   ]
  },
  {
   "cell_type": "markdown",
   "id": "f071f8d4",
   "metadata": {
    "id": "abd4b59d-7f9e-4583-8140-5825bb85729b"
   },
   "source": [
    "![Hypothesis selection in deep learning?](figs/novak_et_al_implicit_reg.png \"Novak et al. Implicit regularization conjecture\")\n",
    "\n",
    "|                                                                         |\n",
    "| ----------------------------------------------------------------------: |\n",
    "| Source: [Novak et al. (2018)](https://openreview.net/forum?id=HJC2SzZCW) |\n"
   ]
  },
  {
   "cell_type": "markdown",
   "id": "5adb4b8b",
   "metadata": {
    "id": "71199180-dd2c-4775-98a6-f2cb8ed22acf"
   },
   "source": [
    "## Introduction\n",
    "\n",
    "In part I, we explore hypothesis selection in deep learning for image classification, by contrasting \"learning\" and \"memorization\".\n",
    "\n",
    "Basically, we examine the empirical behaviour of deep networks trained to perfectly fit noisy labels, as a way to force the model to represent complex decision boundaries. Further, we empirically demonstrate that large networks are capable of completely overfitting a dataset [Zhang et al. (2017)](https://arxiv.org/abs/1611.03530).\n",
    "\n",
    "Importantly, corrupting every training label disrupts the semantic relationship between input images and classes, forcing the network to learn decision boundaries tailored to each individual training sample. This will constitute our operative definition of high-complexity classifier *memorizing* the training set. Changing the ratio of noisy labels allows us to control complexity of our trained statistical model.\n",
    "\n",
    "In the first part of the assignment, we are going to implement the basic building blocks for our experiments, by reproducing the main result of [Zhang et al. (2017)](https://arxiv.org/abs/1611.03530).\n",
    "\n",
    "## Tasks\n",
    "\n",
    "Your tasks for this part of the assignment include:\n",
    "1. Corrupting labels of the CIFAR-10 training set.\n",
    "2. Training a small ResNet to fit corrupted labels.\n",
    "3. Discuss the effect of explicit regularization on memorization.\n",
    "4. Discuss implicit regularization in deep learning."
   ]
  },
  {
   "cell_type": "code",
   "execution_count": 2,
   "id": "19fad6e7",
   "metadata": {
    "editable": true,
    "id": "e7d7f722-2326-489a-8b4e-fd3d687b267c",
    "slideshow": {
     "slide_type": ""
    },
    "tags": []
   },
   "outputs": [],
   "source": [
    "import jax\n",
    "import jax.numpy as jnp\n",
    "from flax import linen as nn\n",
    "from flax.training import train_state\n",
    "import optax\n",
    "\n",
    "import numpy as np\n",
    "from numpy.random import default_rng\n",
    "\n",
    "import torch\n",
    "from torchvision.datasets import CIFAR10\n",
    "from torchvision import transforms\n",
    "import PIL.Image\n",
    "\n",
    "from typing import Any, Callable, Sequence, Tuple\n",
    "from functools import partial\n",
    "import random\n",
    "import os\n",
    "from glob import glob\n",
    "\n",
    "import matplotlib.pyplot as plt"
   ]
  },
  {
   "cell_type": "code",
   "execution_count": 19,
   "id": "8bd664bf",
   "metadata": {
    "id": "a4571ea6-8fd1-4502-a005-712dfd9fef9b",
    "tags": []
   },
   "outputs": [],
   "source": [
    "os.environ['JAX_PLATFORM_NAME'] = 'gpu'\n",
    "# If running the notebook fails with OOM errors, please consider uncommenting the following line.\n",
    "# os.environ['XLA_PYTHON_CLIENT_ALLOCATOR'] = 'platform'\n",
    "# If the notebook is failing at the very beginning with OOM errors, uncomment the following line,\n",
    "# and tune the amout of preallocated memory according to your system.\n",
    "# os.environ['XLA_PYTHON_CLIENT_MEM_FRACTION'] = '.80'\n",
    "\"\"\"\n",
    "==============================\n",
    "TODO: Configuration required.\n",
    "==============================\n",
    "Edit below to set your path to CIFAR-10 and the destination directory for saving checkpoints\n",
    "In case you don't have a local copy of the dataset, it will be downloaded automatically.\n",
    "\"\"\"\n",
    "data_dir = \"./data\" # path to cifar-10-batches-py\n",
    "checkpoints_dir = \"./checkpoints/Part1\"\n",
    "\n",
    "assert os.path.exists(checkpoints_dir),\\\n",
    "    \"The path you provided does not exist!\"\\\n",
    "    \" Consider creating the folder manually.\""
   ]
  },
  {
   "cell_type": "markdown",
   "id": "20a423a4",
   "metadata": {
    "id": "2c6177fc-44a1-4d2e-91ea-2ca9d8b867c4"
   },
   "source": [
    "The focus of this assignment is on *implicit regularization* [[Neyshabur, Tomioka, and Srebro (2015)](https://openreview.net/forum?id=6AzZb_7Qo0e)], namely that controlled by priors induced by the network architecture, optimizer, as well as the training data itself. Hence, we are going to disable all explicit regularization like weight decay, data augmentation, and batch normalization."
   ]
  },
  {
   "cell_type": "code",
   "execution_count": 4,
   "id": "9b1c4029",
   "metadata": {
    "id": "fa178a90-413d-4b71-aac4-946ed78f7a94",
    "tags": []
   },
   "outputs": [],
   "source": [
    "\"\"\"\n",
    "Training hyperparameters\n",
    "==============================\n",
    "TODO: Configuration required.\n",
    "==============================\n",
    "Set the training hyperparameters by:\n",
    "1. Disabling explicit regularization\n",
    "2. Configuring the hyperparameters that control the learning rate schedule \n",
    "   described in Zhang et al. (2017). Specifically, a starting learning rate of \n",
    "   0.1 is decayed by a multiplicative factor of 0.95 at every epoch.\n",
    "3. To cap the computational cost of this assignment, we set a max number of epochs\n",
    "   to 100.\n",
    "4. In this assignment, we will explore how a deep network can fit arbitrary labelling of the data,\n",
    "   so we set the noise_ratio to 1.0\n",
    "\"\"\"\n",
    "cifar10_mean = (0.4919, 0.4822, 0.4465)\n",
    "cifar10_std = (0.2023, 0.1994, 0.2010)\n",
    "num_classes = 10\n",
    "\n",
    "seed = 42\n",
    "enable_augmentation = False # bool\n",
    "enable_batch_norm = False # bool\n",
    "batch_size = 128 # int\n",
    "noise_ratio = 1.0 # float between 0. and 1.\n",
    "weight_decay = 0.0 # float\n",
    "lr =  0.1 # float\n",
    "lr_decay =  0.95 # float\n",
    "max_epochs = 100 # int"
   ]
  },
  {
   "cell_type": "code",
   "execution_count": 5,
   "id": "dc14b340",
   "metadata": {
    "id": "8eac78af-ef79-4589-a53d-6fbd808910eb"
   },
   "outputs": [],
   "source": [
    "# I had to move the functions to a different file to avoid multi-processing errors as I'm on a MacOS\n",
    "from numpy_loader import NumpyLoader\n",
    "from transforms_custom import ToArray, ArrayNormalize\n",
    "\n",
    "if enable_augmentation:\n",
    "    transform_train = transforms.Compose([\n",
    "        transforms.RandomCrop(32, padding=4),\n",
    "        transforms.RandomHorizontalFlip(),\n",
    "        ToArray(),\n",
    "        ArrayNormalize(cifar10_mean, cifar10_std)])\n",
    "else:\n",
    "    transform_train = transforms.Compose([\n",
    "        ToArray(),\n",
    "        ArrayNormalize(cifar10_mean, cifar10_std)])\n",
    "\n",
    "transform_test = transforms.Compose([\n",
    "    ToArray(),\n",
    "    ArrayNormalize(cifar10_mean, cifar10_std)])\n"
   ]
  },
  {
   "cell_type": "code",
   "execution_count": 6,
   "id": "9c7e6845",
   "metadata": {
    "id": "1b62018c-d22d-48a4-9dc1-48a215e57928"
   },
   "outputs": [],
   "source": [
    "# load CIFAR-10\n",
    "cifar10_train = CIFAR10(data_dir, download=True, transform=transform_train, train=True)\n",
    "cifar10_test = CIFAR10(data_dir, download=True, transform=transform_test, train=False)"
   ]
  },
  {
   "cell_type": "code",
   "execution_count": 7,
   "id": "136df276",
   "metadata": {
    "id": "43899143-1e81-4701-a3bd-87f0f6d58251"
   },
   "outputs": [],
   "source": [
    "def corrupt_labels(dataset, noise_ratio, seed=36912):\n",
    "    \"\"\"\n",
    "    Corrupt dataset labels\n",
    "    ==============================\n",
    "    TODO: Implementation required.\n",
    "    ==============================\n",
    "    * Replace a portion of the dataset labels (specificed by @noise_ratio) with random labels.\n",
    "      Random labels should be sampled uniformly, by also ensuring that the ground truth label is never\n",
    "      sampled. @noise_ratio is a float value between 0 and 1, denoting the ratio of corrupted labels.\n",
    "    \n",
    "    Conveniently, the skeleton provided loads the labels from @dataset and sets them after corruption.\n",
    "    A check is in place to test whether your implementation is correct.\n",
    "    \"\"\"\n",
    "    if noise_ratio == 0.:\n",
    "        return\n",
    "    assert 0. <= noise_ratio <= 1., \\\n",
    "        \"noise_ratio should be a value between 0 and 1. Got {}\".format(noise_ratio)\n",
    "    rng = jax.random.PRNGKey(seed) # set seed for reproducibility\n",
    "    labels = np.array(dataset.targets)\n",
    "    num_classes = len(dataset.classes)\n",
    "    N = len(labels)\n",
    "    # split the dataset with noise ratio\n",
    "    idx = int(np.floor(N * noise_ratio))\n",
    "    if idx == 0:\n",
    "        return\n",
    "    # choosing the indexes to corrupt\n",
    "    corrupt_idxs = jax.random.choice(rng, N, shape=(idx,), replace=False)\n",
    "    orig_labels = labels[corrupt_idxs]\n",
    "    # replace with randomised corrupt labels without the ground truth label for the noise data set\n",
    "    base_labels = jax.random.randint(rng, shape=(idx,), minval=0, maxval=num_classes - 1)\n",
    "    new_labels = base_labels + (base_labels >= orig_labels) # +1 if it is >= to orig label to get a uniform distr\n",
    "    # combine back orig_labels, noisy_labels\n",
    "    labels[corrupt_idxs] = new_labels\n",
    "    # set corrupted labels\n",
    "    dataset.targets = labels"
   ]
  },
  {
   "cell_type": "markdown",
   "id": "b979d58b",
   "metadata": {
    "id": "C_IyxcpaFkPo"
   },
   "source": [
    "Test the `corrupt_labels` function:"
   ]
  },
  {
   "cell_type": "code",
   "execution_count": 8,
   "id": "bfe55cd7",
   "metadata": {
    "id": "5ATuqL8-Fby1"
   },
   "outputs": [
    {
     "name": "stdout",
     "output_type": "stream",
     "text": [
      "corrupted:1.0\n",
      "expected:1.0\n"
     ]
    }
   ],
   "source": [
    "# test how many labels were corrupted\n",
    "orig_labels = cifar10_train.targets.copy()\n",
    "\n",
    "corrupt_labels(cifar10_train, noise_ratio=noise_ratio)\n",
    "corrupted = np.float64(np.sum(orig_labels != cifar10_train.targets) / len(orig_labels))\n",
    "expected = np.float64(noise_ratio)\n",
    "print(f\"corrupted:{corrupted}\")\n",
    "print(f\"expected:{expected}\")\n",
    "np.testing.assert_allclose(corrupted, expected, verbose=True, rtol=1e-2,\n",
    "    err_msg=\"Effectively corrupted {}% labels, but {}% required\".format(corrupted *100, expected * 100))\n",
    "\n",
    "# undo the changes\n",
    "cifar10_train.targets = orig_labels"
   ]
  },
  {
   "cell_type": "code",
   "execution_count": 21,
   "id": "64bd6d75",
   "metadata": {
    "id": "4c6c0109-f2a1-495e-be79-3ca52aebb2aa"
   },
   "outputs": [],
   "source": [
    "# corrupt training labels\n",
    "corrupt_labels(cifar10_train, noise_ratio=noise_ratio)\n",
    "\n",
    "# set seed for reproducibilty\n",
    "torch.manual_seed(seed)\n",
    "random.seed(seed)\n",
    "# instantiate data loaders\n",
    "train_loader = NumpyLoader(cifar10_train, batch_size=batch_size, shuffle=True, drop_last=True, num_workers=4)\n",
    "test_loader = NumpyLoader(cifar10_test, batch_size=2*batch_size, num_workers=4)"
   ]
  },
  {
   "cell_type": "code",
   "execution_count": 10,
   "id": "2a4c6fcb",
   "metadata": {
    "id": "ed55dc19-efa1-4e66-afff-836c6b7193a8"
   },
   "outputs": [],
   "source": [
    "# ResNet model definition\n",
    "ModuleDef = Any\n",
    "\n",
    "class ResNetBlock(nn.Module):\n",
    "    \"\"\"ResNet basic block\"\"\"\n",
    "    filters: int\n",
    "    conv: ModuleDef\n",
    "    norm: ModuleDef\n",
    "    act: Callable\n",
    "    strides: Tuple[int,int] = (1,1)\n",
    "    \n",
    "    @nn.compact\n",
    "    def __call__(self, x):\n",
    "        residual = x\n",
    "        y = self.conv(self.filters, (3,3), self.strides)(x)\n",
    "        if self.norm is not None:\n",
    "            y = self.norm()(y)\n",
    "        y = self.act(y)\n",
    "        y = self.conv(self.filters, (3,3))(y)\n",
    "        if self.norm is not None:\n",
    "            y = self.norm(scale_init=nn.initializers.zeros)(y)\n",
    "            \n",
    "        if residual.shape != y.shape:\n",
    "            residual = self.conv(self.filters, (1,1), self.strides, name='conv_proj')(residual)\n",
    "            if self.norm is not None:\n",
    "                residual = self.norm(name='norm_proj')(residual)\n",
    "                \n",
    "        return self.act(residual + y)\n",
    "\n",
    "\n",
    "class BottleneckBlock(nn.Module):\n",
    "    \"\"\"Bottleneck residual block\"\"\"\n",
    "    filters: int\n",
    "    conv: ModuleDef\n",
    "    norm: ModuleDef\n",
    "    act: Callable\n",
    "    strides: Tuple[int, int] = (1, 1)\n",
    "    \n",
    "    @nn.compact\n",
    "    def __call__(self, x):\n",
    "        residual = x\n",
    "        y = self.conv(self.filters, (1,1))(x)\n",
    "        if self.norm is not None:\n",
    "            y = self.norm()(y)\n",
    "        y = self.act(y)\n",
    "        y = self.conv(self.filters, (3, 3), self.strides)(y)\n",
    "        if self.norm is not None:\n",
    "            y = self.norm()(y)\n",
    "        y = self.act(y)\n",
    "        y = self.conv(self.filters * 4, (1,1))(y)\n",
    "        if self.norm is not None:\n",
    "            y = self.norm(scale_init=nn.initializers.zeros)(y)\n",
    "            \n",
    "        if residual.shape != y.shape:\n",
    "            residual = self.conv(self.filters * 4, (1, 1), self.strides, name='conv_proj')(residual)\n",
    "            if self.norm is not None:\n",
    "                residual = self.norm(name='norm_proj')(residual)\n",
    "            \n",
    "        return self.act(residual + y)\n",
    "\n",
    "\n",
    "class ResNet(nn.Module):\n",
    "    \"\"\"ResNet v1\"\"\"\n",
    "    stage_sizes: Sequence[int]\n",
    "    block_cls: ModuleDef\n",
    "    num_classes: int = 10 # adapted to CIFAR-10\n",
    "    num_filters: int = 16 # reduced number of filters to decrease training time\n",
    "    dtype: Any = jnp.float32\n",
    "    act: Callable = nn.relu\n",
    "    \n",
    "    def setup(self, enable_batch_norm=False):\n",
    "        self.enable_batch_norm = enable_batch_norm\n",
    "    \n",
    "    @nn.compact\n",
    "    def __call__(self, x, train: bool = True):\n",
    "        conv = partial(nn.Conv, use_bias = not self.enable_batch_norm, dtype = self.dtype)\n",
    "        if self.enable_batch_norm:\n",
    "            norm = partial(nn.BatchNorm, use_running_average=not train, momentum=0.9, epsilon=1e-5, dtype=self.dtype)\n",
    "        else:\n",
    "            norm = None\n",
    "        \n",
    "        x = conv(self.num_filters, (3,3), (1,1),\n",
    "                 padding='SAME', name='conv_init')(x)\n",
    "        if self.enable_batch_norm:\n",
    "            x = norm(name='bn_init')(x)\n",
    "        x = nn.relu(x)\n",
    "        x = nn.max_pool(x, (2, 2), strides=(2, 2), padding='SAME')\n",
    "        for i, block_size in enumerate(self.stage_sizes):\n",
    "            for j in range(block_size):\n",
    "                strides = (2, 2) if i > 0 and j == 0 else (1, 1)\n",
    "                x = self.block_cls(self.num_filters * 2 ** i,\n",
    "                                   strides=strides,\n",
    "                                   conv=conv,\n",
    "                                   norm=norm,\n",
    "                                   act=self.act)(x)\n",
    "        x = jnp.mean(x, axis=(1, 2))\n",
    "        x = nn.Dense(self.num_classes, dtype=self.dtype)(x)\n",
    "        x = jnp.asarray(x, self.dtype)\n",
    "        return x\n",
    "    \n",
    "ResNet18 = partial(ResNet, stage_sizes=[2, 2, 2, 2], block_cls=ResNetBlock)"
   ]
  },
  {
   "cell_type": "markdown",
   "id": "d1e34825",
   "metadata": {
    "id": "3ddfba0b-a055-4423-965c-29d9409aee5c"
   },
   "source": [
    "Next, we define the training loop as well as some utilty functions. We will train the network until 100% training accuracy is reached, or for a maximum of ``max_epochs``, to cap the computational cost of this exercise.\n",
    "\n",
    "Your tasks are:\n",
    "1. Implement an exponential learning rate schedule.\n",
    "2. Compute and store training (and validation) loss and accuracy.\n",
    "3. Implement the convergence criterion.\n",
    "4. Train ResNet-18 until the convergence criterion is met."
   ]
  },
  {
   "cell_type": "markdown",
   "id": "d877dffb",
   "metadata": {
    "id": "JrxL_FcK9Nqv"
   },
   "source": [
    "## Training Utilities"
   ]
  },
  {
   "cell_type": "code",
   "execution_count": 31,
   "id": "b8554b4c",
   "metadata": {
    "id": "_v1PgSww9LWU"
   },
   "outputs": [],
   "source": [
    "def compute_metrics(logits, labels):\n",
    "    \"\"\"Given the model predictions @logits and ground-truth @labels compute\n",
    "       loss and accuracy.\n",
    "    ==============================\n",
    "    TODO: Implementation required.\n",
    "    ==============================\n",
    "    * Compute the average cross-entropy loss over a batch, using the unnormalized network\n",
    "       predictions @logits, and the ground-truth @labels.\n",
    "    \n",
    "    * Before computing the cross-entropy loss, the logits should be normalized.\n",
    "      Hint: The optax package allows to apply both softmax and cross-entropy loss\n",
    "      to the logits at the same time.\n",
    "    * Finally, for computing the loss, each label should be 1-hot-encoded. You can use\n",
    "      ``jax.nn.one_hot()``.\n",
    "    \"\"\"\n",
    "    num_classes = logits.shape[1]\n",
    "    labels_one_hot = jax.nn.one_hot(labels, num_classes)\n",
    "    # compute cross entropy loss \n",
    "    # optax takes unnormalized loss\n",
    "    cross_entropy = optax.softmax_cross_entropy(logits, labels_one_hot)\n",
    "    loss = np.mean(cross_entropy)\n",
    "\n",
    "    # compute accuracy\n",
    "    predictions = jnp.argmax(logits, axis=1)\n",
    "    accuracy = (predictions == labels).mean()\n",
    "\n",
    "    metrics = {\n",
    "        'loss': loss,\n",
    "        'accuracy': accuracy,\n",
    "    }\n",
    "    return metrics"
   ]
  },
  {
   "cell_type": "markdown",
   "id": "e9b2ab2f",
   "metadata": {
    "id": "e1igMHpMaw7x"
   },
   "source": [
    "Test the `compute_metrics` function:"
   ]
  },
  {
   "cell_type": "code",
   "execution_count": 30,
   "id": "444f6933",
   "metadata": {
    "id": "EfoDzhMzaxlz"
   },
   "outputs": [
    {
     "name": "stdout",
     "output_type": "stream",
     "text": [
      "computed loss:0.9622554779052734\n",
      "computed accuracy:0.6666666865348816\n"
     ]
    }
   ],
   "source": [
    "logits = jnp.array([[1.,2.,0.,-1.],\n",
    "                    [0.,2.,-5.,1.],\n",
    "                    [1.,1.,5.,-1.]])\n",
    "labels = jnp.array([1,\n",
    "                    0,\n",
    "                    2])\n",
    "\n",
    "returned = compute_metrics(logits,labels)\n",
    "expected_mean_sce_loss = np.array(0.9622556)\n",
    "expected_mean_accuracy = np.array(0.6666666)\n",
    "\n",
    "print(f\"computed loss:{returned['loss']}\")\n",
    "print(f\"computed accuracy:{returned['accuracy']}\")\n",
    "\n",
    "assert returned['loss'].shape == (), \\\n",
    "    'softmax cross-entropy loss is expected here to be averaged over samples'\n",
    "assert returned['accuracy'].shape == (), \\\n",
    "    'accuracy is expected here to be averaged over samples'\n",
    "\n",
    "np.testing.assert_almost_equal(expected_mean_sce_loss, returned['loss'])\n",
    "np.testing.assert_almost_equal(expected_mean_accuracy, returned['accuracy'])"
   ]
  },
  {
   "cell_type": "code",
   "execution_count": 13,
   "id": "60e23eed",
   "metadata": {
    "id": "efdysgala8YX"
   },
   "outputs": [],
   "source": [
    "def get_lr_scheduler(base_lr, lr_decay, steps_per_epoch):\n",
    "    \"\"\" Initialize learning rate scheduler\n",
    "    Parameters:\n",
    "        base_lr: initial learning rate\n",
    "        lr_decay: learning rate decay coefficient\n",
    "        steps_per_epoch: number of sgd steps in one training epoch\n",
    "        \n",
    "    ==============================\n",
    "    TODO: Implementation required.\n",
    "    ==============================\n",
    "    Implement an exponential learning rate decay schedule, as proposed by Zhang et al. (2017) to fit\n",
    "    corrupted labels. \n",
    "    \n",
    "    Hint: Look at the ``optax`` documentation for available learning \n",
    "    rate schedulers and how to use them.\n",
    "    \"\"\"\n",
    "    scheduler = optax.schedules.exponential_decay(init_value=base_lr, transition_steps=steps_per_epoch, decay_rate=lr_decay)\n",
    "    return scheduler\n",
    "    "
   ]
  },
  {
   "cell_type": "markdown",
   "id": "63a556fc",
   "metadata": {
    "id": "nMUTlAVdbt_H"
   },
   "source": [
    "Test the `get_lr_scheduler` function:"
   ]
  },
  {
   "cell_type": "code",
   "execution_count": 14,
   "id": "20c93e57",
   "metadata": {
    "id": "V3AFYP8-buPl"
   },
   "outputs": [
    {
     "name": "stdout",
     "output_type": "stream",
     "text": [
      "returned lr:9.943736222339794e-05\n"
     ]
    }
   ],
   "source": [
    "returned = get_lr_scheduler(1e-4, 0.95, 100)\n",
    "print(f\"returned lr:{returned(11)}\")\n",
    "assert callable(returned), \"get_lr_scheduler function is expected to return another function that acts on the number of steps.\"\n",
    "expected_lr = np.array(9.943736e-05)\n",
    "np.testing.assert_almost_equal(expected_lr, returned(11))"
   ]
  },
  {
   "cell_type": "code",
   "execution_count": 15,
   "id": "8bf2cd46",
   "metadata": {
    "id": "cduMAeGdcpHG"
   },
   "outputs": [],
   "source": [
    "def stopping_criterion(accuracy):\n",
    "    \"\"\"Check whether 100% training accuracy is reached\n",
    "    ==============================\n",
    "    TODO: Implementation required.\n",
    "    ==============================\n",
    "    The method should return True if accuracy is close to 1.0, and False otherwise.\n",
    "    \"\"\"\n",
    "\n",
    "    tol = 1e-3\n",
    "    is_converged = np.isclose(accuracy, 1.0, atol=tol)\n",
    "    return is_converged"
   ]
  },
  {
   "cell_type": "markdown",
   "id": "dc4b17f9",
   "metadata": {
    "id": "utvAkHvMc2Um"
   },
   "source": [
    "Test the `stopping_criterion` function:"
   ]
  },
  {
   "cell_type": "code",
   "execution_count": 16,
   "id": "42252828",
   "metadata": {
    "id": "f-DKKwDic1--"
   },
   "outputs": [],
   "source": [
    "returned = stopping_criterion(.999)\n",
    "expected_lr = np.array(True)\n",
    "np.testing.assert_equal(expected_lr, returned)"
   ]
  },
  {
   "cell_type": "code",
   "execution_count": 17,
   "id": "1cf8e667",
   "metadata": {
    "id": "0cd0cb72-7d44-4954-88e3-9ae6eba8aecf"
   },
   "outputs": [],
   "source": [
    "# training utilities\n",
    "def create_train_state(rng):\n",
    "    \"\"\" Initialize network and optimizer\n",
    "    \"\"\"\n",
    "    net = ResNet18(num_classes=num_classes)\n",
    "    params = net.init(rng, jnp.ones((1, 32, 32, 3)))['params']\n",
    "    \n",
    "    learning_rate_scheduler = get_lr_scheduler(lr, lr_decay, steps_per_epoch=len(train_loader))\n",
    "    tx = optax.sgd(learning_rate_scheduler, momentum=0.9, nesterov=False)\n",
    "    return train_state.TrainState.create(\n",
    "        apply_fn=net.apply, params=params, tx=tx)\n",
    "\n",
    "\n",
    "@jax.jit\n",
    "def train_step(state, batch):\n",
    "    \"\"\"Train for one step\n",
    "    \"\"\"\n",
    "    def compute_loss(params):\n",
    "        \"\"\"Cross-entropy loss with weight decay\n",
    "        \"\"\"\n",
    "        logits = ResNet18().apply({'params': params}, batch['image'])\n",
    "        loss = jnp.mean(\n",
    "            optax.softmax_cross_entropy(logits=logits, labels=jax.nn.one_hot(batch['label'], num_classes)))\n",
    "        weight_penalty_params = jax.tree.leaves(params)\n",
    "        weight_l2 = sum(\n",
    "            [jnp.sum(x ** 2) for x in weight_penalty_params if x.ndim > 1])\n",
    "        weight_penalty = weight_decay * 0.5 * weight_l2\n",
    "        loss = loss + weight_penalty\n",
    "        return loss, logits\n",
    "    grad_fn = jax.value_and_grad(compute_loss, has_aux=True)\n",
    "    (_, logits), grads = grad_fn(state.params)\n",
    "    state = state.apply_gradients(grads=grads)\n",
    "    metrics = compute_metrics(logits=logits, labels=batch['label'])\n",
    "    return state, metrics\n",
    "\n",
    "\n",
    "@jax.jit\n",
    "def eval_step(params, batch):\n",
    "    \"\"\"Evaluate ResNet18 on batch using params. \n",
    "    \"\"\"\n",
    "    logits = ResNet18().apply({'params': params}, batch['image'], train=False)\n",
    "    return compute_metrics(logits=logits, labels=batch['label'])\n",
    "\n",
    "\n",
    "def train_epoch(state, train_loader, epoch):\n",
    "    \"\"\"Train for one epoch\n",
    "    \"\"\"\n",
    "    batch_metrics = []\n",
    "    for input_img, target in train_loader:\n",
    "        batch = {\n",
    "            'image': input_img,\n",
    "            'label': target,\n",
    "        }\n",
    "\n",
    "        state, train_metrics_ep = train_step(state, batch)\n",
    "        batch_metrics.append(train_metrics_ep)\n",
    "\n",
    "    batch_metrics_np = jax.device_get(batch_metrics)\n",
    "    epoch_metrics_np = {\n",
    "        k: np.mean([metrics[k] for metrics in batch_metrics_np])\n",
    "        for k in batch_metrics_np[0]\n",
    "    }\n",
    "\n",
    "    print(\"epoch: {}, train loss: {}, train accuracy: {}\".format(\n",
    "            epoch, epoch_metrics_np['loss'], epoch_metrics_np['accuracy']))\n",
    "    return state, epoch_metrics_np\n",
    "\n",
    "\n",
    "def eval_model(epoch, params, test_loader):\n",
    "    \"\"\"Evaluate model on test set\n",
    "    \"\"\"\n",
    "    batch_metrics = []\n",
    "    for input_img, target in test_loader:\n",
    "        batch = {\n",
    "            'image': input_img,\n",
    "            'label': target,\n",
    "        }\n",
    "\n",
    "        metrics = eval_step(params, batch)\n",
    "        batch_metrics.append(metrics)\n",
    "\n",
    "    batch_metrics_np = jax.device_get(batch_metrics)\n",
    "    epoch_metrics_np = {\n",
    "        k: np.mean([metrics[k] for metrics in batch_metrics_np])\n",
    "        for k in batch_metrics_np[0]\n",
    "    }\n",
    "\n",
    "    print(\"epoch: {}, test loss: {}, test accuracy: {}\".format(\n",
    "            epoch, epoch_metrics_np['loss'], epoch_metrics_np['accuracy']))\n",
    "    return epoch_metrics_np\n",
    "\n",
    "\n",
    "def save_checkpoint(savedir, train_state, epoch):\n",
    "    \"\"\"Save train_state to savedir\"\"\"\n",
    "    state_dict = {\n",
    "        'epoch': epoch,\n",
    "        'state': train_state.params,\n",
    "    }\n",
    "    save_path = os.path.join(savedir,\n",
    "                             \"resnet18_\" + str(epoch) + '.pickle')\n",
    "    torch.save(state_dict, save_path)\n",
    "    print(\"Saving model checkpoint to {}.\".format(save_path))\n",
    "\n",
    "def try_cast(maybe_number):\n",
    "    try:\n",
    "        number = int(maybe_number)\n",
    "        return number\n",
    "    except:\n",
    "        return None\n",
    "\n",
    "def load_checkpoint(savedir):\n",
    "    \"\"\"\n",
    "        Loads the latest checkpoint from savedir\n",
    "        returns `None` if no checkpoint has been found.\n",
    "    \"\"\"\n",
    "    save_path = glob(checkpoints_dir+'/*.pickle')\n",
    "    path_dict = {}\n",
    "    path_sections = map(\n",
    "        lambda x:x.replace(\".pickle\",\"\").split(\"_\")[-1],\n",
    "        save_path)\n",
    "    for i,maybe_num in enumerate(path_sections):\n",
    "        num = try_cast(maybe_num)\n",
    "        if num is not None:\n",
    "            path_dict[num] = save_path[i]\n",
    "    if len(path_dict) != 0:\n",
    "        latest_checkpoint = sorted(path_dict.items(),\n",
    "                    key=lambda x: x[1])[-1][1]\n",
    "        state_dict = torch.load(latest_checkpoint)\n",
    "        print(\"Loading model from checkpoint {}.\".format(latest_checkpoint))\n",
    "        return state_dict\n",
    "    else:\n",
    "        return None\n",
    "\n",
    "def load_train_state(state_dict):\n",
    "    net = ResNet18(num_classes=num_classes)\n",
    "    params = state_dict['state']\n",
    "    start_step = state_dict['epoch']*len(train_loader)\n",
    "    learning_rate_scheduler = get_lr_scheduler(lr, lr_decay, steps_per_epoch=len(train_loader))\n",
    "    def scheduler_with_offset(step):\n",
    "        return learning_rate_scheduler(step + start_step)\n",
    "    tx = optax.sgd(scheduler_with_offset, momentum=0.9, nesterov=False)\n",
    "    return train_state.TrainState.create(\n",
    "        apply_fn=net.apply, params=params, tx=tx)\n",
    "\n",
    "def train_and_evaluate():\n",
    "    \"\"\"Train and evaluate model\"\"\"\n",
    "    # Initialize model\n",
    "    rng = jax.random.PRNGKey(seed)\n",
    "    state_dict = load_checkpoint(checkpoints_dir)\n",
    "    if state_dict is None:\n",
    "        state = create_train_state(rng)\n",
    "        save_checkpoint(checkpoints_dir, \n",
    "                        state,\n",
    "                        'init')\n",
    "        start_epoch = 0\n",
    "    else:\n",
    "        state = load_train_state(state_dict)\n",
    "        start_epoch = state_dict['epoch']+1\n",
    "\n",
    "    metrics = {\n",
    "        'train': {\n",
    "            'loss' : [],\n",
    "            'accuracy': [],\n",
    "        },\n",
    "        'test': {\n",
    "            'loss': [],\n",
    "            'accuracy': [],\n",
    "        },\n",
    "    }\n",
    "    for epoch in range(start_epoch, max_epochs):\n",
    "        state, train_metrics = train_epoch(state, train_loader, epoch)\n",
    "        if stopping_criterion(train_metrics['accuracy']):\n",
    "            print(\"Stopping criterion reached: train accuracy = {}\".format(train_metrics['accuracy']))\n",
    "            break\n",
    "        \n",
    "        if epoch % 10 == 0:\n",
    "            test_metrics = eval_model(epoch, state.params, test_loader)\n",
    "            save_checkpoint(checkpoints_dir, state, epoch)\n",
    "            for key in train_metrics:\n",
    "                metrics['train'][key].append(train_metrics[key])\n",
    "                metrics['test'][key].append(test_metrics[key])\n",
    "            \n",
    "    save_checkpoint(checkpoints_dir, state, epoch)\n",
    "    test_metrics = eval_model(epoch, state.params, test_loader)\n",
    "    for key in test_metrics:\n",
    "        metrics['train'][key].append(train_metrics[key])\n",
    "        metrics['test'][key].append(test_metrics[key])\n",
    "    \n",
    "    return state, metrics, epoch"
   ]
  },
  {
   "cell_type": "code",
   "execution_count": 22,
   "id": "904fecd1",
   "metadata": {
    "id": "f3eeeb9b-60dd-498a-9b2d-e1e5fed0197a"
   },
   "outputs": [
    {
     "name": "stdout",
     "output_type": "stream",
     "text": [
      "Saving model checkpoint to ./checkpoints/Part1/resnet18_init.pickle.\n",
      "epoch: 0, train loss: 2.1600735187530518, train accuracy: 0.1246594563126564\n",
      "epoch: 0, test loss: 2.5060923099517822, test accuracy: 0.111328125\n",
      "Saving model checkpoint to ./checkpoints/Part1/resnet18_0.pickle.\n",
      "epoch: 1, train loss: 2.151775598526001, train accuracy: 0.12796474993228912\n",
      "epoch: 2, train loss: 2.1482291221618652, train accuracy: 0.13078926503658295\n",
      "epoch: 3, train loss: 2.1464128494262695, train accuracy: 0.13537660241127014\n",
      "epoch: 4, train loss: 2.1426303386688232, train accuracy: 0.13501602411270142\n",
      "epoch: 5, train loss: 2.138727903366089, train accuracy: 0.14006410539150238\n",
      "epoch: 6, train loss: 2.1341590881347656, train accuracy: 0.14284855127334595\n",
      "epoch: 7, train loss: 2.1303329467773438, train accuracy: 0.14743590354919434\n",
      "epoch: 8, train loss: 2.1252152919769287, train accuracy: 0.14711537957191467\n",
      "epoch: 9, train loss: 2.1182353496551514, train accuracy: 0.15558893978595734\n",
      "epoch: 10, train loss: 2.1113059520721436, train accuracy: 0.1611778885126114\n",
      "epoch: 10, test loss: 2.3524370193481445, test accuracy: 0.23798827826976776\n",
      "Saving model checkpoint to ./checkpoints/Part1/resnet18_10.pickle.\n",
      "epoch: 11, train loss: 2.1050162315368652, train accuracy: 0.16678686439990997\n",
      "epoch: 12, train loss: 2.0914230346679688, train accuracy: 0.1762019246816635\n",
      "epoch: 13, train loss: 2.0807979106903076, train accuracy: 0.1840144246816635\n",
      "epoch: 14, train loss: 2.06413197517395, train accuracy: 0.19433093070983887\n",
      "epoch: 15, train loss: 2.0464398860931396, train accuracy: 0.20647035539150238\n",
      "epoch: 16, train loss: 2.0300981998443604, train accuracy: 0.2143629789352417\n",
      "epoch: 17, train loss: 2.009486198425293, train accuracy: 0.22714343667030334\n",
      "epoch: 18, train loss: 1.9818027019500732, train accuracy: 0.24178685247898102\n",
      "epoch: 19, train loss: 1.951462984085083, train accuracy: 0.2595352530479431\n",
      "epoch: 20, train loss: 1.9182120561599731, train accuracy: 0.2731570601463318\n",
      "epoch: 20, test loss: 2.7127902507781982, test accuracy: 0.18154296278953552\n",
      "Saving model checkpoint to ./checkpoints/Part1/resnet18_20.pickle.\n",
      "epoch: 21, train loss: 1.8804404735565186, train accuracy: 0.29314902424812317\n",
      "epoch: 22, train loss: 1.8514870405197144, train accuracy: 0.3083133101463318\n",
      "epoch: 23, train loss: 1.796336054801941, train accuracy: 0.33343347907066345\n",
      "epoch: 24, train loss: 1.7490204572677612, train accuracy: 0.3563501536846161\n",
      "epoch: 25, train loss: 1.6958714723587036, train accuracy: 0.3754206597805023\n",
      "epoch: 26, train loss: 1.6364349126815796, train accuracy: 0.4012620151042938\n",
      "epoch: 27, train loss: 1.5770504474639893, train accuracy: 0.4246995151042938\n",
      "epoch: 28, train loss: 1.5110834836959839, train accuracy: 0.45232370495796204\n",
      "epoch: 29, train loss: 1.4393479824066162, train accuracy: 0.47872596979141235\n",
      "epoch: 30, train loss: 1.3813337087631226, train accuracy: 0.5050681233406067\n",
      "epoch: 30, test loss: 3.4748568534851074, test accuracy: 0.14462891221046448\n",
      "Saving model checkpoint to ./checkpoints/Part1/resnet18_30.pickle.\n",
      "epoch: 31, train loss: 1.3004850149154663, train accuracy: 0.532892644405365\n",
      "epoch: 32, train loss: 1.2316590547561646, train accuracy: 0.5573317408561707\n",
      "epoch: 33, train loss: 1.1733949184417725, train accuracy: 0.5797476172447205\n",
      "epoch: 34, train loss: 1.0962921380996704, train accuracy: 0.6098157167434692\n",
      "epoch: 35, train loss: 1.0120320320129395, train accuracy: 0.6409655213356018\n",
      "epoch: 36, train loss: 0.9379479885101318, train accuracy: 0.6674679517745972\n",
      "epoch: 37, train loss: 0.8497076630592346, train accuracy: 0.7013021111488342\n",
      "epoch: 38, train loss: 0.7915626168251038, train accuracy: 0.7225160002708435\n",
      "epoch: 39, train loss: 0.7401804327964783, train accuracy: 0.7430288195610046\n",
      "epoch: 40, train loss: 0.6648807525634766, train accuracy: 0.7677083611488342\n",
      "epoch: 40, test loss: 5.4612274169921875, test accuracy: 0.134765625\n",
      "Saving model checkpoint to ./checkpoints/Part1/resnet18_40.pickle.\n",
      "epoch: 41, train loss: 0.6098597645759583, train accuracy: 0.7883613705635071\n",
      "epoch: 42, train loss: 0.5356268882751465, train accuracy: 0.8150641322135925\n",
      "epoch: 43, train loss: 0.47484827041625977, train accuracy: 0.836678683757782\n",
      "epoch: 44, train loss: 0.431958943605423, train accuracy: 0.8515424728393555\n",
      "epoch: 45, train loss: 0.38620612025260925, train accuracy: 0.8681290149688721\n",
      "epoch: 46, train loss: 0.3104051947593689, train accuracy: 0.8956129550933838\n",
      "epoch: 47, train loss: 0.2809408903121948, train accuracy: 0.9055288434028625\n",
      "epoch: 48, train loss: 0.22535230219364166, train accuracy: 0.9251803159713745\n",
      "epoch: 49, train loss: 0.1962323635816574, train accuracy: 0.9344350695610046\n",
      "epoch: 50, train loss: 0.15134434401988983, train accuracy: 0.9494391083717346\n",
      "epoch: 50, test loss: 10.260942459106445, test accuracy: 0.14169922471046448\n",
      "Saving model checkpoint to ./checkpoints/Part1/resnet18_50.pickle.\n",
      "epoch: 51, train loss: 0.11592632532119751, train accuracy: 0.9614182710647583\n",
      "epoch: 52, train loss: 0.09610844403505325, train accuracy: 0.9696915149688721\n",
      "epoch: 53, train loss: 0.07326184958219528, train accuracy: 0.9765424728393555\n",
      "epoch: 54, train loss: 0.050267528742551804, train accuracy: 0.9853966236114502\n",
      "epoch: 55, train loss: 0.027681540697813034, train accuracy: 0.9922275543212891\n",
      "epoch: 56, train loss: 0.013171451166272163, train accuracy: 0.9972956776618958\n",
      "epoch: 57, train loss: 0.0049136485904455185, train accuracy: 0.9995392560958862\n",
      "Stopping criterion reached: train accuracy = 0.9995392560958862\n",
      "Saving model checkpoint to ./checkpoints/Part1/resnet18_57.pickle.\n",
      "epoch: 57, test loss: 13.883337020874023, test accuracy: 0.13417968153953552\n"
     ]
    }
   ],
   "source": [
    "# Train model\n",
    "trained_state, metrics, last_epoch = train_and_evaluate()"
   ]
  },
  {
   "cell_type": "code",
   "execution_count": 23,
   "id": "5f0c21d3",
   "metadata": {
    "id": "ca26b3c3-4790-4f3e-99a2-096b83f9c705"
   },
   "outputs": [
    {
     "data": {
      "text/plain": [
       "Text(0.5, 0, 'epochs')"
      ]
     },
     "execution_count": 23,
     "metadata": {},
     "output_type": "execute_result"
    },
    {
     "data": {
      "image/png": "[encoded data removed]",
      "text/plain": [
       "<Figure size 1000x1000 with 3 Axes>"
      ]
     },
     "metadata": {},
     "output_type": "display_data"
    }
   ],
   "source": [
    "# plot training statistics\n",
    "fig, axs = plt.subplots(3, figsize=(10,10), sharex=True)\n",
    "epochs = np.arange(len(metrics['test']['loss'])) * 10\n",
    "if last_epoch % 10 != 0:\n",
    "    epochs[-1] = last_epoch\n",
    "\n",
    "axs[0].plot(epochs, metrics['train']['loss'], label='train loss')\n",
    "axs[0].plot(epochs, metrics['test']['loss'], label='test loss')\n",
    "axs[0].legend(loc='upper right')\n",
    "axs[0].set_ylabel('loss')\n",
    "axs[1].plot(epochs, metrics['train']['accuracy'], label='train acc')\n",
    "axs[1].plot(epochs, metrics['test']['accuracy'], label='test acc')\n",
    "axs[1].legend(loc='center right')\n",
    "axs[1].set_ylabel('accuracy')\n",
    "axs[1].set_ylim(0., 1.0)\n",
    "\n",
    "# plot learning rate schedule\n",
    "num_batches = len(train_loader)\n",
    "lr_scheduler = get_lr_scheduler(\n",
    "    lr, lr_decay, steps_per_epoch=num_batches)\n",
    "lr_schedule = [jax.device_get(lr_scheduler(epoch * num_batches)).item() for epoch in epochs]\n",
    "\n",
    "axs[2].plot(epochs, lr_schedule)\n",
    "axs[2].set_ylabel('learning rate')\n",
    "axs[2].set_xlabel('epochs')"
   ]
  },
  {
   "cell_type": "markdown",
   "id": "2ba1208a",
   "metadata": {
    "id": "ec539bdc-5d63-429c-af06-36c2abd586ba"
   },
   "source": [
    "## Explicit regularization\n",
    "\n",
    "If unregularized networks can fit arbitrary labellings of the data, what factors control the learning of patterns that generalize to unseen data? Is the success of deep learning simply explained by the right choice of explicit regularization?\n",
    "\n",
    "The following plot shows the effectiveness of several regularization techniques at contrasting memorization, by comparing the training accuracy reached under several degrees of label noise. Furthermore, for each combination of regularization techniques, the best validation accuracy on clean labels is reported in the legend of the plot.\n",
    "\n",
    "![Comparison of several explict regularization techniques](figs/expl_regularization.png \"Explicit regularization vs label noise\")\n",
    "\n",
    "### Questions\n",
    "\n",
    "* **Which technique is most effective at hindering memorization?** I think the technique with decaying training accuracy as the label noise increases and reaches to 1.0 is the most effective at hindering memorization and which had the highest validation accuracy on clean labels data, i.e., the technique combined with Data Augmentation and weight decay of 1e-4.  \n",
    "* **Which technique yields the best performance when no corrupted training labels are present?** - All of them yield the same performance of near 100 percent when label noise was 0.0. But, with the clean labels data, the technique combined with Data Augmentation and weight decay of 1e-4 achieves the best performance of 91.7% validation accuracy.\n",
    "* **Is learning only possible with explicit regularization? Motivate!** - No, Learning is definitely beneficial with explicit regularization techniques. With no regularization, the model achieves near 100 percent training accuracy on various ratios of label noise equally but only 80.7% validation accuracy on clean labels data, which indicates that it fails to generalize and there was definite memorization involved. With explicit regularization, we were able to reduce the training accuracy gradually with noisy labels training. We were also able to achieve higher validation accuracy on clean labels for each case of explicit regularization, which indicates that it guides the model toward learning meaningful patterns instead of memorizing noise. So, deep networks can fit anything, but regularization ensures they learn useful structure rather than noise."
   ]
  },
  {
   "cell_type": "markdown",
   "id": "09ab93bb",
   "metadata": {
    "id": "9ff8228d-e660-4a73-9f34-81f38de33bc6"
   },
   "source": [
    "## Implicit regularization\n",
    "\n",
    "In this last plot, several regularization techniques are compared on clean labels, against learning without explicit regularization. All networks have been trained until a target training cross-entropy loss value of $0.19$ was reached.\n",
    "\n",
    "![Explicit vs implict regularization](figs/impl_regularization.png \"Explicit vs implicit regularization\")\n",
    "\n",
    "* **What do you observe? Is explicit regulaziation needed for achieving non-trivial performance?** Yes, explicit regularization is needed to achieve non-trivial performance. The model with no regularization technique was able to achieve the target training cross-entropy loss of 0.19 in only 12500 steps, but, it was only able to reach a trivial training accuracy of 80%. With explicit regularization, we were able to achieve 90%, specifically involving data augmentation. But, even the unregularized model generalizes well despite being capable of memorizing data. This suggests that something about the training dynamics or model structure implicitly regularizes learning — guiding the model toward simple, generalizable solutions even without explicit penalties like weight decay or augmentation.\n",
    "* **If explict regularization alone does not explain learning, could you speculate on what factors, implicit in standard deep learning, are responsible for generalization?** Even though explicit methods help, they don’t tell the full story. Deep networks still generalize better than expected even with minimal regularization, suggesting additional implicit factors at play:\n",
    "    - Network architecture priors: Convolutional networks are designed to look for patterns that repeat, hence they naturally focus on useful, general features instead of memorizing random details — even without extra regularization.\n",
    "    - Optimization bias: SGD naturally prefers flatter minima in the loss landscape, which correspond to simpler, more generalizable solutions rather than overfitted ones."
   ]
  },
  {
   "cell_type": "markdown",
   "id": "54ca3974",
   "metadata": {
    "id": "f10d9eb6-5da4-46bb-aead-fdefffee6532"
   },
   "source": [
    "## Next steps\n",
    "The code provided in this notebook is slightly more general than what is required to solve the assignment. In fact, you can use the code to train your networks on clean labels, for instance by also enabling data augmentation and batch normalization. If you choose to do so, you probably need to tweak the learning rate schedule as well. Below, one example of a piece-wise constant learning rate policy, often used in practice, is provided.\n",
    "\n",
    "You can use the schedule proposed to train a VGG-11 network, on clean labels (`label_noise = 0.`), with data augmentation. For such network, it is suggested to use a small weight decay, like $1\\rm{e}-4$ and start with a smaller initial learning rate `lr = 0.01`. Such network will be needed for completing the optional task of Part II."
   ]
  },
  {
   "cell_type": "code",
   "execution_count": 24,
   "id": "2ff8a82f",
   "metadata": {
    "id": "da759ec4-53b0-4117-96f1-f1127cceb991"
   },
   "outputs": [],
   "source": [
    "num_batches = len(train_loader)\n",
    "step_lr_schedule_args = {30 * num_batches: 0.5, 60 * num_batches: 0.5, 90 * num_batches: 0.5}\n",
    "scheduler = optax.piecewise_constant_schedule(init_value=lr, boundaries_and_scales=step_lr_schedule_args)"
   ]
  },
  {
   "cell_type": "markdown",
   "id": "2f931eef",
   "metadata": {},
   "source": [
    "Finally, it is valuable for us to know how long did it take you to complete this practical. 6 hours"
   ]
  },
  {
   "cell_type": "markdown",
   "id": "df76ce1a",
   "metadata": {
    "id": "75f53178-d096-443a-9075-d44f3683a3a3"
   },
   "source": [
    "## Acknowledgements\n",
    "\n",
    "* The data loading boilerplate code and the training algorithm are adapted from the [official JAX documentation](https://jax.readthedocs.io/en/latest/notebooks/Neural_Network_and_Data_Loading.html).\n",
    "\n",
    "* ResNet definition adapted from the official [FLAX ImageNet example](https://github.com/google/flax/blob/master/examples/imagenet/models.py).\n",
    "\n",
    "* PIL to numpy array transforms are adapted from the following [CIFAR-10 example](https://github.com/hushon/JAX-ResNet-CIFAR10/blob/main/train.py). \n"
   ]
  },
  {
   "cell_type": "markdown",
   "id": "5e28a43d",
   "metadata": {
    "id": "a2d9a830-6cd7-4a6e-a655-de25648738fe"
   },
   "source": [
    "## References\n",
    "1. [Understanding deep learning requires rethinking generalization](https://arxiv.org/abs/1611.03530)  - Zhang et al. ICLR 2017.\n",
    "2. [A Closer Look at Memorization in Deep Networks](https://icml.cc/Conferences/2017/ScheduleMultitrack?event=1327) - Arpit et al. ICML 2017.\n",
    "3. [Sensitivity and Generalization in Neural Networks: an Empirical Study](https://openreview.net/forum?id=HJC2SzZCW) - Novak et al. ICLR 2018.\n",
    "4. [In Search of the Real Inductive Bias: On the Role of Implicit Regularization in Deep Learning](https://openreview.net/forum?id=6AzZb_7Qo0e) - Neyshabur, Tomioka, and Srebro. ICLR Workshop Track 2015."
   ]
  },
  {
   "cell_type": "markdown",
   "id": "229b4e64",
   "metadata": {
    "id": "c5bacea6-7fc2-4bdf-9795-756c2b1d8de3"
   },
   "source": [
    "## Changelog\n",
    "| Version \t| Contribution      \t| Author (Affiliation) \t                | Contact \t        |\n",
    "|---------\t|-------------------\t|-----------------------------------    |---------\t        |\n",
    "| 1.0     \t| First development \t| Matteo Gamba (KTH/EECS/RPL)       \t|  ![contact address](figs/contact.png \"Contact information\") \t|"
   ]
  }
 ],
 "metadata": {
  "accelerator": "GPU",
  "colab": {
   "collapsed_sections": [],
   "provenance": []
  },
  "gpuClass": "standard",
  "kernelspec": {
   "display_name": "JAX (CPU) Env",
   "language": "python",
   "name": "jaxenv"
  },
  "language_info": {
   "codemirror_mode": {
    "name": "ipython",
    "version": 3
   },
   "file_extension": ".py",
   "mimetype": "text/x-python",
   "name": "python",
   "nbconvert_exporter": "python",
   "pygments_lexer": "ipython3",
   "version": "3.10.18"
  }
 },
 "nbformat": 4,
 "nbformat_minor": 5
}
